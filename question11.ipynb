{
 "cells": [
  {
   "cell_type": "markdown",
   "metadata": {},
   "source": [
    "# Ibeth Sandoval\n",
    "Notebook for assignment 7<br>"
   ]
  },
  {
   "cell_type": "code",
   "execution_count": 3,
   "metadata": {},
   "outputs": [
    {
     "data": {
      "text/plain": [
       "5"
      ]
     },
     "execution_count": 3,
     "metadata": {},
     "output_type": "execute_result"
    }
   ],
   "source": [
    "import numpy as nu\n",
    "\n",
    "def compute_mean(mean_list):\n",
    "    \n",
    "    result_mean = nu.mean(mean_list)\n",
    "    return int(result_mean)  \n",
    "\n",
    "compute_mean([2 ,4, 6, 8])"
   ]
  },
  {
   "cell_type": "markdown",
   "metadata": {},
   "source": [
    "In the equation above, we calculate the mean of the given list of values by defining a function.<br>\n",
    "**Formula:** <br>\n",
    "\n",
    "\\begin{flalign}\n",
    "\\bar{x} = \\frac{x_1+x_2+...+x_n}{n} = \\frac{1}{n} \\left(\\sum_{i=1}^{n} x_i\\right)\n",
    "\\end{flalign}"
   ]
  }
 ],
 "metadata": {
  "kernelspec": {
   "display_name": "Python [conda env:jupyterlab_practice]",
   "language": "python",
   "name": "conda-env-jupyterlab_practice-py"
  },
  "language_info": {
   "codemirror_mode": {
    "name": "ipython",
    "version": 3
   },
   "file_extension": ".py",
   "mimetype": "text/x-python",
   "name": "python",
   "nbconvert_exporter": "python",
   "pygments_lexer": "ipython3",
   "version": "3.13.2"
  }
 },
 "nbformat": 4,
 "nbformat_minor": 4
}
